{
 "cells": [
  {
   "cell_type": "markdown",
   "metadata": {},
   "source": [
    "# Python Mini Challenges\n",
    "\n",
    "The most entertaining(and satisfying) way to improve your skills in a programming language is by doing challenges. Every challenge that is given in this assessment module can be solved by a bit of python programming and logical thinking.\n",
    "\n",
    "Some challenges may look easy,some may look tough but we hope you solve them all with the same vigour.\n",
    "\n",
    "All the best."
   ]
  },
  {
   "cell_type": "markdown",
   "metadata": {},
   "source": [
    "# Smallest Palindrome\n",
    "\n",
    "\n",
    "Create a function called `palindrome(num)` that given a number `'num'`, finds the next smallest palindrome and returns it\n",
    "\n",
    "For eg:\n",
    "***\n",
    "**Input**\n",
    "\n",
    "```python\n",
    "palindrome(123)\n",
    "```\n",
    "\n",
    "**Output**\n",
    "```python\n",
    "131\n",
    "```\n",
    "***\n",
    "**Input**\n",
    "\n",
    "```python\n",
    "palindrome(1331)\n",
    "```\n",
    "\n",
    "**Output**\n",
    "```python\n",
    "1441\n",
    "```\n"
   ]
  },
  {
   "cell_type": "markdown",
   "metadata": {},
   "source": [
    "# Hints\n",
    "You can check for a palindrome by writing code similar to:\n",
    "```python\n",
    "num=str(num)\n",
    "print(num[::-1]==num)\n",
    "\n",
    "```\n",
    "\n",
    "# Test Cases\n",
    "\n",
    "Function declaration check\n",
    "\n",
    "(palindrome(8)==9)\n",
    "\n",
    "(palindrome(12)==22)\n",
    "\n",
    "(palindrome(13456)==13531)\n"
   ]
  },
  {
   "cell_type": "code",
   "execution_count": 1,
   "metadata": {},
   "outputs": [
    {
     "name": "stdout",
     "output_type": "stream",
     "text": [
      "12\n",
      "22\n"
     ]
    }
   ],
   "source": [
    "#Code starts here\n",
    "\n",
    "#Function to check for palindrome\n",
    "def palindrome_check(num):\n",
    "  num=str(num)\n",
    "  return (num[::-1]==num)\n",
    "\n",
    "#Function to find the smallest palindrome\n",
    "def palindrome(num):\n",
    "    while(1):\n",
    "        num=num+1\n",
    "        if palindrome_check(num):\n",
    "            return num\n",
    "        \n",
    "        \n",
    "#Code ends here        "
   ]
  },
  {
   "cell_type": "markdown",
   "metadata": {},
   "source": [
    "# Success Message\n",
    "\n",
    "Congrats! You have successfully finished this challenge."
   ]
  },
  {
   "cell_type": "markdown",
   "metadata": {},
   "source": [
    "# Anagram Scramble\n",
    "\n",
    "Create a function called `'a_scramble(str_1, str_2)'` that given the strings`'str_1'`,`'str_2'` returns `True` if a portion of `'str_1'` characters can be scrambled to match `'str2'`, else return `False`\n",
    "\n",
    "For eg:\n",
    "***\n",
    "**Input**\n",
    "\n",
    "```python\n",
    "a_scramble(\"Tom Marvolo Riddle\",\"Voldemort\")\n",
    "```\n",
    "\n",
    "**Output**\n",
    "```python\n",
    "True\n",
    "```\n",
    "***\n",
    "**Input**\n",
    "\n",
    "```python\n",
    "a_scramble(\"ticket\",\"chat\")\n",
    "```\n",
    "\n",
    "**Output**\n",
    "```python\n",
    "False\n",
    "```\n"
   ]
  },
  {
   "cell_type": "markdown",
   "metadata": {},
   "source": [
    "# Hints\n",
    "\n",
    "For the case where `str_1=\"skatepark\"` and `str_2=\"sparks\"`, the function should return False because `'str_1'` has only one occurence of `s`\n",
    "\n",
    "You can implement that by removing the occurence of the character from str_1 after comparing it with characters from str_2.\n",
    "    \n",
    "\n",
    "# Test Cases\n",
    "\n",
    "\n",
    "a_scramble(\"labratory\",\"Bat\")==True\n",
    "\n",
    "a_scramble(\"baby shower\",\"shows\")==False\n",
    "\n",
    "a_scramble(\"eatcher\",\"teacher\")==True\n",
    "\n"
   ]
  },
  {
   "cell_type": "code",
   "execution_count": 3,
   "metadata": {},
   "outputs": [],
   "source": [
    "#Code starts here\n",
    "\n",
    "#Function to find anagram of one word in another\n",
    "\n",
    "def a_scramble(str_1,str_2):\n",
    "    result=True\n",
    "    for i in (str_2.lower()):\n",
    "        if i not in (str_1.lower()):\n",
    "            result=False\n",
    "            break\n",
    "        str_1=str_1.replace(i,'',1) #Removing the letters from str_1 that are already checked\n",
    "    \n",
    "    return (result)\n",
    "\n",
    "#Code ends here"
   ]
  },
  {
   "cell_type": "markdown",
   "metadata": {},
   "source": [
    "# Success Message\n",
    "\n",
    "Congrats! You have successfully finished this challenge."
   ]
  },
  {
   "cell_type": "markdown",
   "metadata": {},
   "source": [
    "# Fibonacci Check\n",
    "\n",
    "Create a function called `check_fib(num)` that checks if the given number `'num'` is part of the [fibonacci sequence](https://en.wikipedia.org/wiki/Fibonacci_number) and returns `True` if it is, else `False`\n",
    "\n",
    "For eg:\n",
    "***\n",
    "**Input**\n",
    "\n",
    "```python\n",
    "check_fib(145)\n",
    "```\n",
    "\n",
    "**Output**\n",
    "```python\n",
    "False\n",
    "```\n",
    "***\n",
    "**Input**\n",
    "\n",
    "```python\n",
    "check_fib(377)\n",
    "```\n",
    "\n",
    "**Output**\n",
    "```python\n",
    "True\n",
    "```\n",
    "\n",
    "\n"
   ]
  },
  {
   "cell_type": "markdown",
   "metadata": {},
   "source": [
    "# Hints\n",
    "A number `'n'` is part of fibonacci sequence if\n",
    "`(5*n*n) + 4)` or `((5*n*n) - 4)` or `both` is a perfect square\n",
    "\n",
    "\n",
    "# Test Cases\n",
    "\n",
    "check_fib(456)==False\n",
    "\n",
    "check_fib(987)==True"
   ]
  },
  {
   "cell_type": "code",
   "execution_count": 2,
   "metadata": {},
   "outputs": [],
   "source": [
    "#Importing header files\n",
    "from math import sqrt\n",
    "\n",
    "#Code starts here\n",
    "\n",
    "#Function to check for perfect square \n",
    "def is_perfect_square(x):\n",
    " \n",
    "    s = sqrt(x)\n",
    "    return (int(s)*int(s) == x) \n",
    " \n",
    "#Function to check for fibonacci number\n",
    "def check_fib(num):\n",
    "    if is_perfect_square((5*num*num) + 4) or is_perfect_square((5*num*num) - 4): #Formula for checking fibonacci number\n",
    "        return True\n",
    "    \n",
    "    return False     \n",
    "\n",
    "#Code ends here"
   ]
  },
  {
   "cell_type": "markdown",
   "metadata": {},
   "source": [
    "# Success Message\n",
    "\n",
    "Congrats! You have successfully finished this challenge."
   ]
  },
  {
   "cell_type": "markdown",
   "metadata": {},
   "source": [
    "# String Compression\n",
    "\n",
    "Write a function `compress(word)` that given a word `word` returns the string with it's letters and how many times they occur continously together.\n",
    "\n",
    "For eg:\n",
    "\n",
    "***\n",
    "**Input**\n",
    "\n",
    "```python\n",
    "a_scramble(\"abbs\")\n",
    "```\n",
    "\n",
    "**Output**\n",
    "```python\n",
    "\"a1b2s1\"\n",
    "```\n",
    "Explanation: 1 occurence of `a`, followed by 2 occurences of `b`, followed by 1 occurence of `s`\n",
    "***\n",
    "**Input**\n",
    "\n",
    "```python\n",
    "compress(\"xxcccdex\")\n",
    "```\n",
    "\n",
    "**Output**\n",
    "```python\n",
    "\"x2c3d1e1x1\"\n",
    "```\n",
    "\n",
    "Explanation: 2 occurences of `x`, followed by 3 occurences of `c`, followed by 1 occurence of `d`, followed by 1 occurence of `e`, followed by 1 occurence of `x`"
   ]
  },
  {
   "cell_type": "markdown",
   "metadata": {},
   "source": [
    "# Hints\n",
    "\n",
    "You can take care of different cases of letters in a string by using `\"str.lower()\"`\n",
    "\n",
    "# Test Cases\n",
    "\n",
    "compress('Ss')=='s2'\n",
    "\n",
    "compress('ssggtts')=='s2g2t2s1'\n",
    "\n",
    "compress('banana')=='b1a1n1a1n1a1'"
   ]
  },
  {
   "cell_type": "code",
   "execution_count": 4,
   "metadata": {},
   "outputs": [],
   "source": [
    "#Code starts here\n",
    "\n",
    "#Function to compress string\n",
    "def compress(word):\n",
    "    word=word.lower()\n",
    "    mist=[]\n",
    "    l=0\n",
    "    while(l<len(word)):\n",
    "        m=word[l]\n",
    "        j=0\n",
    "        while(l<len(word) and word[l]==m):\n",
    "                 j=j+1\n",
    "                 l=l+1    \n",
    "\n",
    "        mist.append(m)\n",
    "        mist.append(str(j))\n",
    "    \n",
    "    return ''.join(mist)\n",
    "\n",
    "#Code ends here"
   ]
  },
  {
   "cell_type": "markdown",
   "metadata": {},
   "source": [
    "# Success Message\n",
    "\n",
    "Congrats! You have successfully finished this challenge."
   ]
  },
  {
   "cell_type": "markdown",
   "metadata": {},
   "source": [
    "# K-Distinct\n",
    "\n",
    "Write a function `k_distinct(string,k)` that given a string `'string'` and number `'k'`, it checks whether the `'string'` has `'k'` distinct characters\n",
    "\n",
    "For eg:\n",
    "***\n",
    "**Input**\n",
    "\n",
    "```python\n",
    "k_distinct('Messoptamia',8)\n",
    "```\n",
    "\n",
    "**Output**\n",
    "```python\n",
    "True\n",
    "```\n",
    "***\n",
    "**Input**\n",
    "\n",
    "```python\n",
    "k_distinct('banana',4)\n",
    "```\n",
    "\n",
    "**Output**\n",
    "```python\n",
    "False\n",
    "```\n"
   ]
  },
  {
   "cell_type": "markdown",
   "metadata": {},
   "source": [
    "# Hints\n",
    "\n",
    "You can take care of different cases of letters in a string by using `\"str.lower()\"`\n",
    "\n",
    "\n",
    "# Test Cases\n",
    "\n",
    "\n",
    "k_distinct('SUBBOOKKEEPER',8)==True\n",
    "\n",
    "k_distinct('Rhythm',6)==False\n",
    "\n",
    "k_distinct('Falafel',5)==False"
   ]
  },
  {
   "cell_type": "code",
   "execution_count": 5,
   "metadata": {},
   "outputs": [],
   "source": [
    "#Code starts here\n",
    "\n",
    "#Function to check existence of k distinct characters in string\n",
    "def k_distinct(string,k):\n",
    "    s_list=(set(string.lower()))\n",
    "    return len(s_list)>=k\n",
    "\n",
    "#Code ends here"
   ]
  },
  {
   "cell_type": "markdown",
   "metadata": {},
   "source": [
    "# Success Message\n",
    "\n",
    "Congrats! You have successfully finished this challenge."
   ]
  }
 ],
 "metadata": {
  "kernelspec": {
   "display_name": "Python 3",
   "language": "python",
   "name": "python3"
  },
  "language_info": {
   "codemirror_mode": {
    "name": "ipython",
    "version": 3
   },
   "file_extension": ".py",
   "mimetype": "text/x-python",
   "name": "python",
   "nbconvert_exporter": "python",
   "pygments_lexer": "ipython3",
   "version": "3.6.7"
  }
 },
 "nbformat": 4,
 "nbformat_minor": 2
}
